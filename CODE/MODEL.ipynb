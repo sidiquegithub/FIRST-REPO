{
 "cells": [
  {
   "cell_type": "markdown",
   "id": "89242360",
   "metadata": {},
   "source": [
    "# ARIMA MODEL"
   ]
  },
  {
   "cell_type": "markdown",
   "id": "a10935e5",
   "metadata": {},
   "source": [
    "To perform ARIMA analyses and predict the temperature values for the next five years in Delhi."
   ]
  },
  {
   "cell_type": "code",
   "execution_count": 1,
   "id": "63e066d9",
   "metadata": {},
   "outputs": [],
   "source": [
    "import numpy as np\n",
    "import pandas as pd\n",
    "import seaborn as sns\n",
    "import matplotlib.pyplot as plt"
   ]
  },
  {
   "cell_type": "code",
   "execution_count": 2,
   "id": "0def6b69",
   "metadata": {},
   "outputs": [],
   "source": [
    "file_path = r\"C:\\Users\\sidiq\\Emiritus\\city_temperature.csv\""
   ]
  },
  {
   "cell_type": "code",
   "execution_count": 3,
   "id": "4f98cd97",
   "metadata": {},
   "outputs": [
    {
     "name": "stderr",
     "output_type": "stream",
     "text": [
      "C:\\Users\\sidiq\\miniconda3\\lib\\site-packages\\IPython\\core\\interactiveshell.py:3457: DtypeWarning: Columns (2) have mixed types.Specify dtype option on import or set low_memory=False.\n",
      "  exec(code_obj, self.user_global_ns, self.user_ns)\n"
     ]
    },
    {
     "name": "stdout",
     "output_type": "stream",
     "text": [
      "   Region  Country State     City  Month  Day  Year  AvgTemperature\n",
      "0  Africa  Algeria   NaN  Algiers      1    1  1995            64.2\n",
      "1  Africa  Algeria   NaN  Algiers      1    2  1995            49.4\n",
      "2  Africa  Algeria   NaN  Algiers      1    3  1995            48.8\n",
      "--------------------------------------------------\n",
      " shape of df_1=  (2906327, 8)\n"
     ]
    }
   ],
   "source": [
    "df_1= pd.read_csv(file_path)\n",
    "print(df_1.head(3))\n",
    "print('--------------------------------------------------')\n",
    "print(' shape of df_1= ', df_1.shape)"
   ]
  },
  {
   "cell_type": "code",
   "execution_count": 4,
   "id": "249e2703",
   "metadata": {},
   "outputs": [],
   "source": [
    "# df_1['City'].unique()\n",
    "# df_1['Country'].unique()"
   ]
  },
  {
   "cell_type": "code",
   "execution_count": 5,
   "id": "bdce9b10",
   "metadata": {},
   "outputs": [],
   "source": [
    "# Create a sub dataframe for temperature in delhi\n",
    "delhi = df_1[(df_1['Country'] == 'India') & (df_1['City'] == 'Delhi')]"
   ]
  },
  {
   "cell_type": "code",
   "execution_count": 6,
   "id": "c29e97aa",
   "metadata": {},
   "outputs": [
    {
     "data": {
      "text/html": [
       "<div>\n",
       "<style scoped>\n",
       "    .dataframe tbody tr th:only-of-type {\n",
       "        vertical-align: middle;\n",
       "    }\n",
       "\n",
       "    .dataframe tbody tr th {\n",
       "        vertical-align: top;\n",
       "    }\n",
       "\n",
       "    .dataframe thead th {\n",
       "        text-align: right;\n",
       "    }\n",
       "</style>\n",
       "<table border=\"1\" class=\"dataframe\">\n",
       "  <thead>\n",
       "    <tr style=\"text-align: right;\">\n",
       "      <th></th>\n",
       "      <th>Region</th>\n",
       "      <th>Country</th>\n",
       "      <th>State</th>\n",
       "      <th>City</th>\n",
       "      <th>Month</th>\n",
       "      <th>Day</th>\n",
       "      <th>Year</th>\n",
       "      <th>AvgTemperature</th>\n",
       "    </tr>\n",
       "  </thead>\n",
       "  <tbody>\n",
       "    <tr>\n",
       "      <th>340321</th>\n",
       "      <td>Asia</td>\n",
       "      <td>India</td>\n",
       "      <td>NaN</td>\n",
       "      <td>Delhi</td>\n",
       "      <td>1</td>\n",
       "      <td>1</td>\n",
       "      <td>1995</td>\n",
       "      <td>50.7</td>\n",
       "    </tr>\n",
       "    <tr>\n",
       "      <th>340322</th>\n",
       "      <td>Asia</td>\n",
       "      <td>India</td>\n",
       "      <td>NaN</td>\n",
       "      <td>Delhi</td>\n",
       "      <td>1</td>\n",
       "      <td>2</td>\n",
       "      <td>1995</td>\n",
       "      <td>52.1</td>\n",
       "    </tr>\n",
       "    <tr>\n",
       "      <th>340323</th>\n",
       "      <td>Asia</td>\n",
       "      <td>India</td>\n",
       "      <td>NaN</td>\n",
       "      <td>Delhi</td>\n",
       "      <td>1</td>\n",
       "      <td>3</td>\n",
       "      <td>1995</td>\n",
       "      <td>53.8</td>\n",
       "    </tr>\n",
       "    <tr>\n",
       "      <th>340324</th>\n",
       "      <td>Asia</td>\n",
       "      <td>India</td>\n",
       "      <td>NaN</td>\n",
       "      <td>Delhi</td>\n",
       "      <td>1</td>\n",
       "      <td>4</td>\n",
       "      <td>1995</td>\n",
       "      <td>53.7</td>\n",
       "    </tr>\n",
       "    <tr>\n",
       "      <th>340325</th>\n",
       "      <td>Asia</td>\n",
       "      <td>India</td>\n",
       "      <td>NaN</td>\n",
       "      <td>Delhi</td>\n",
       "      <td>1</td>\n",
       "      <td>5</td>\n",
       "      <td>1995</td>\n",
       "      <td>54.5</td>\n",
       "    </tr>\n",
       "  </tbody>\n",
       "</table>\n",
       "</div>"
      ],
      "text/plain": [
       "       Region Country State   City  Month  Day  Year  AvgTemperature\n",
       "340321   Asia   India   NaN  Delhi      1    1  1995            50.7\n",
       "340322   Asia   India   NaN  Delhi      1    2  1995            52.1\n",
       "340323   Asia   India   NaN  Delhi      1    3  1995            53.8\n",
       "340324   Asia   India   NaN  Delhi      1    4  1995            53.7\n",
       "340325   Asia   India   NaN  Delhi      1    5  1995            54.5"
      ]
     },
     "execution_count": 6,
     "metadata": {},
     "output_type": "execute_result"
    }
   ],
   "source": [
    "delhi.head()"
   ]
  },
  {
   "cell_type": "code",
   "execution_count": 7,
   "id": "631f601a",
   "metadata": {},
   "outputs": [
    {
     "data": {
      "text/html": [
       "<div>\n",
       "<style scoped>\n",
       "    .dataframe tbody tr th:only-of-type {\n",
       "        vertical-align: middle;\n",
       "    }\n",
       "\n",
       "    .dataframe tbody tr th {\n",
       "        vertical-align: top;\n",
       "    }\n",
       "\n",
       "    .dataframe thead th {\n",
       "        text-align: right;\n",
       "    }\n",
       "</style>\n",
       "<table border=\"1\" class=\"dataframe\">\n",
       "  <thead>\n",
       "    <tr style=\"text-align: right;\">\n",
       "      <th></th>\n",
       "      <th>Region</th>\n",
       "      <th>Country</th>\n",
       "      <th>State</th>\n",
       "      <th>City</th>\n",
       "      <th>Month</th>\n",
       "      <th>Day</th>\n",
       "      <th>Year</th>\n",
       "      <th>AvgTemperature</th>\n",
       "    </tr>\n",
       "  </thead>\n",
       "  <tbody>\n",
       "    <tr>\n",
       "      <th>349581</th>\n",
       "      <td>Asia</td>\n",
       "      <td>India</td>\n",
       "      <td>NaN</td>\n",
       "      <td>Delhi</td>\n",
       "      <td>5</td>\n",
       "      <td>8</td>\n",
       "      <td>2020</td>\n",
       "      <td>89.9</td>\n",
       "    </tr>\n",
       "    <tr>\n",
       "      <th>349582</th>\n",
       "      <td>Asia</td>\n",
       "      <td>India</td>\n",
       "      <td>NaN</td>\n",
       "      <td>Delhi</td>\n",
       "      <td>5</td>\n",
       "      <td>9</td>\n",
       "      <td>2020</td>\n",
       "      <td>92.3</td>\n",
       "    </tr>\n",
       "    <tr>\n",
       "      <th>349583</th>\n",
       "      <td>Asia</td>\n",
       "      <td>India</td>\n",
       "      <td>NaN</td>\n",
       "      <td>Delhi</td>\n",
       "      <td>5</td>\n",
       "      <td>10</td>\n",
       "      <td>2020</td>\n",
       "      <td>81.9</td>\n",
       "    </tr>\n",
       "    <tr>\n",
       "      <th>349584</th>\n",
       "      <td>Asia</td>\n",
       "      <td>India</td>\n",
       "      <td>NaN</td>\n",
       "      <td>Delhi</td>\n",
       "      <td>5</td>\n",
       "      <td>11</td>\n",
       "      <td>2020</td>\n",
       "      <td>84.7</td>\n",
       "    </tr>\n",
       "    <tr>\n",
       "      <th>349585</th>\n",
       "      <td>Asia</td>\n",
       "      <td>India</td>\n",
       "      <td>NaN</td>\n",
       "      <td>Delhi</td>\n",
       "      <td>5</td>\n",
       "      <td>12</td>\n",
       "      <td>2020</td>\n",
       "      <td>88.1</td>\n",
       "    </tr>\n",
       "  </tbody>\n",
       "</table>\n",
       "</div>"
      ],
      "text/plain": [
       "       Region Country State   City  Month  Day  Year  AvgTemperature\n",
       "349581   Asia   India   NaN  Delhi      5    8  2020            89.9\n",
       "349582   Asia   India   NaN  Delhi      5    9  2020            92.3\n",
       "349583   Asia   India   NaN  Delhi      5   10  2020            81.9\n",
       "349584   Asia   India   NaN  Delhi      5   11  2020            84.7\n",
       "349585   Asia   India   NaN  Delhi      5   12  2020            88.1"
      ]
     },
     "execution_count": 7,
     "metadata": {},
     "output_type": "execute_result"
    }
   ],
   "source": [
    "delhi.tail()"
   ]
  },
  {
   "cell_type": "code",
   "execution_count": 8,
   "id": "ce91ff9a",
   "metadata": {},
   "outputs": [
    {
     "data": {
      "text/plain": [
       "(9265, 8)"
      ]
     },
     "execution_count": 8,
     "metadata": {},
     "output_type": "execute_result"
    }
   ],
   "source": [
    "delhi.shape"
   ]
  },
  {
   "cell_type": "code",
   "execution_count": 9,
   "id": "8d7c7c64",
   "metadata": {},
   "outputs": [
    {
     "data": {
      "text/plain": [
       "Region               0\n",
       "Country              0\n",
       "State             9265\n",
       "City                 0\n",
       "Month                0\n",
       "Day                  0\n",
       "Year                 0\n",
       "AvgTemperature       0\n",
       "dtype: int64"
      ]
     },
     "execution_count": 9,
     "metadata": {},
     "output_type": "execute_result"
    }
   ],
   "source": [
    "delhi.isnull().sum()"
   ]
  },
  {
   "cell_type": "code",
   "execution_count": 10,
   "id": "9b7c8952",
   "metadata": {},
   "outputs": [],
   "source": [
    "# Reset Index\n",
    "delhi = delhi.reset_index(drop=True)"
   ]
  },
  {
   "cell_type": "code",
   "execution_count": 11,
   "id": "b6bcb1c5",
   "metadata": {},
   "outputs": [
    {
     "data": {
      "text/html": [
       "<div>\n",
       "<style scoped>\n",
       "    .dataframe tbody tr th:only-of-type {\n",
       "        vertical-align: middle;\n",
       "    }\n",
       "\n",
       "    .dataframe tbody tr th {\n",
       "        vertical-align: top;\n",
       "    }\n",
       "\n",
       "    .dataframe thead th {\n",
       "        text-align: right;\n",
       "    }\n",
       "</style>\n",
       "<table border=\"1\" class=\"dataframe\">\n",
       "  <thead>\n",
       "    <tr style=\"text-align: right;\">\n",
       "      <th></th>\n",
       "      <th>Region</th>\n",
       "      <th>Country</th>\n",
       "      <th>State</th>\n",
       "      <th>City</th>\n",
       "      <th>Month</th>\n",
       "      <th>Day</th>\n",
       "      <th>Year</th>\n",
       "      <th>AvgTemperature</th>\n",
       "    </tr>\n",
       "  </thead>\n",
       "  <tbody>\n",
       "    <tr>\n",
       "      <th>0</th>\n",
       "      <td>Asia</td>\n",
       "      <td>India</td>\n",
       "      <td>NaN</td>\n",
       "      <td>Delhi</td>\n",
       "      <td>1</td>\n",
       "      <td>1</td>\n",
       "      <td>1995</td>\n",
       "      <td>50.7</td>\n",
       "    </tr>\n",
       "    <tr>\n",
       "      <th>1</th>\n",
       "      <td>Asia</td>\n",
       "      <td>India</td>\n",
       "      <td>NaN</td>\n",
       "      <td>Delhi</td>\n",
       "      <td>1</td>\n",
       "      <td>2</td>\n",
       "      <td>1995</td>\n",
       "      <td>52.1</td>\n",
       "    </tr>\n",
       "  </tbody>\n",
       "</table>\n",
       "</div>"
      ],
      "text/plain": [
       "  Region Country State   City  Month  Day  Year  AvgTemperature\n",
       "0   Asia   India   NaN  Delhi      1    1  1995            50.7\n",
       "1   Asia   India   NaN  Delhi      1    2  1995            52.1"
      ]
     },
     "execution_count": 11,
     "metadata": {},
     "output_type": "execute_result"
    }
   ],
   "source": [
    "delhi.head(2)"
   ]
  },
  {
   "cell_type": "code",
   "execution_count": 12,
   "id": "2574578e",
   "metadata": {},
   "outputs": [
    {
     "data": {
      "text/plain": [
       "Text(0, 0.5, 'AvgTemperature')"
      ]
     },
     "execution_count": 12,
     "metadata": {},
     "output_type": "execute_result"
    },
    {
     "data": {
      "image/png": "[encoded data removed]",
      "text/plain": [
       "<Figure size 1000x400 with 1 Axes>"
      ]
     },
     "metadata": {},
     "output_type": "display_data"
    }
   ],
   "source": [
    "plt.figure(figsize=(10,4))\n",
    "plt.plot(delhi['AvgTemperature'])\n",
    "plt.ylabel(\"AvgTemperature\",fontsize = 20)"
   ]
  },
  {
   "cell_type": "code",
   "execution_count": 13,
   "id": "cbcc329c",
   "metadata": {},
   "outputs": [
    {
     "data": {
      "image/png": "[encoded data removed]",
      "text/plain": [
       "<Figure size 600x400 with 1 Axes>"
      ]
     },
     "metadata": {},
     "output_type": "display_data"
    }
   ],
   "source": [
    "# Distribution of data\n",
    "\n",
    "# Plotting the density diagram (Kernel Density Estimate plot)\n",
    "plt.figure(figsize=(6, 4))\n",
    "sns.kdeplot(delhi['AvgTemperature'], fill=True)\n",
    "plt.title('Density Plot of Average Temperature in Delhi')\n",
    "plt.xlabel('Average Temperature')\n",
    "plt.ylabel('Density')\n",
    "plt.show()"
   ]
  },
  {
   "cell_type": "code",
   "execution_count": 14,
   "id": "493045e8",
   "metadata": {},
   "outputs": [
    {
     "name": "stdout",
     "output_type": "stream",
     "text": [
      "Skewness:  -4.834065909887745\n",
      "Description:  highly skewed\n"
     ]
    }
   ],
   "source": [
    "#Skewness of data\n",
    "skewness = delhi['AvgTemperature'].skew()\n",
    "\n",
    "# Checking if the data is skewed\n",
    "if skewness > 1 or skewness < -1:\n",
    "    skew_description = \"highly skewed\"\n",
    "elif 0.5 <= skewness <= 1 or -1 <= skewness <= -0.5:\n",
    "    skew_description = \"moderately skewed\"\n",
    "else:\n",
    "    skew_description = \"approximately symmetric\"\n",
    "\n",
    "print(\"Skewness: \", skewness)\n",
    "print(\"Description: \", skew_description)"
   ]
  },
  {
   "cell_type": "code",
   "execution_count": 15,
   "id": "06ebf595",
   "metadata": {},
   "outputs": [
    {
     "data": {
      "image/png": "[encoded data removed]",
      "text/plain": [
       "<Figure size 400x400 with 1 Axes>"
      ]
     },
     "metadata": {},
     "output_type": "display_data"
    }
   ],
   "source": [
    "# To check Outliers\n",
    "# Creating a box plot\n",
    "plt.figure(figsize=(4, 4))\n",
    "plt.boxplot(delhi['AvgTemperature'])\n",
    "plt.ylabel(\"AvgTemperature\", fontsize=20)\n",
    "plt.title(\"Box Plot of AvgTemperature in Delhi\", fontsize=20)\n",
    "plt.show()"
   ]
  },
  {
   "cell_type": "code",
   "execution_count": 16,
   "id": "91e783b3",
   "metadata": {},
   "outputs": [
    {
     "data": {
      "text/html": [
       "<div>\n",
       "<style scoped>\n",
       "    .dataframe tbody tr th:only-of-type {\n",
       "        vertical-align: middle;\n",
       "    }\n",
       "\n",
       "    .dataframe tbody tr th {\n",
       "        vertical-align: top;\n",
       "    }\n",
       "\n",
       "    .dataframe thead th {\n",
       "        text-align: right;\n",
       "    }\n",
       "</style>\n",
       "<table border=\"1\" class=\"dataframe\">\n",
       "  <thead>\n",
       "    <tr style=\"text-align: right;\">\n",
       "      <th></th>\n",
       "      <th>Region</th>\n",
       "      <th>Country</th>\n",
       "      <th>State</th>\n",
       "      <th>City</th>\n",
       "      <th>Month</th>\n",
       "      <th>Day</th>\n",
       "      <th>Year</th>\n",
       "      <th>AvgTemperature</th>\n",
       "    </tr>\n",
       "  </thead>\n",
       "  <tbody>\n",
       "    <tr>\n",
       "      <th>87</th>\n",
       "      <td>Asia</td>\n",
       "      <td>India</td>\n",
       "      <td>NaN</td>\n",
       "      <td>Delhi</td>\n",
       "      <td>3</td>\n",
       "      <td>29</td>\n",
       "      <td>1995</td>\n",
       "      <td>-99.0</td>\n",
       "    </tr>\n",
       "    <tr>\n",
       "      <th>1323</th>\n",
       "      <td>Asia</td>\n",
       "      <td>India</td>\n",
       "      <td>NaN</td>\n",
       "      <td>Delhi</td>\n",
       "      <td>8</td>\n",
       "      <td>16</td>\n",
       "      <td>1998</td>\n",
       "      <td>-99.0</td>\n",
       "    </tr>\n",
       "    <tr>\n",
       "      <th>1369</th>\n",
       "      <td>Asia</td>\n",
       "      <td>India</td>\n",
       "      <td>NaN</td>\n",
       "      <td>Delhi</td>\n",
       "      <td>10</td>\n",
       "      <td>1</td>\n",
       "      <td>1998</td>\n",
       "      <td>-99.0</td>\n",
       "    </tr>\n",
       "    <tr>\n",
       "      <th>1453</th>\n",
       "      <td>Asia</td>\n",
       "      <td>India</td>\n",
       "      <td>NaN</td>\n",
       "      <td>Delhi</td>\n",
       "      <td>12</td>\n",
       "      <td>24</td>\n",
       "      <td>1998</td>\n",
       "      <td>-99.0</td>\n",
       "    </tr>\n",
       "    <tr>\n",
       "      <th>1454</th>\n",
       "      <td>Asia</td>\n",
       "      <td>India</td>\n",
       "      <td>NaN</td>\n",
       "      <td>Delhi</td>\n",
       "      <td>12</td>\n",
       "      <td>25</td>\n",
       "      <td>1998</td>\n",
       "      <td>-99.0</td>\n",
       "    </tr>\n",
       "    <tr>\n",
       "      <th>1459</th>\n",
       "      <td>Asia</td>\n",
       "      <td>India</td>\n",
       "      <td>NaN</td>\n",
       "      <td>Delhi</td>\n",
       "      <td>12</td>\n",
       "      <td>30</td>\n",
       "      <td>1998</td>\n",
       "      <td>-99.0</td>\n",
       "    </tr>\n",
       "    <tr>\n",
       "      <th>1460</th>\n",
       "      <td>Asia</td>\n",
       "      <td>India</td>\n",
       "      <td>NaN</td>\n",
       "      <td>Delhi</td>\n",
       "      <td>12</td>\n",
       "      <td>31</td>\n",
       "      <td>1998</td>\n",
       "      <td>-99.0</td>\n",
       "    </tr>\n",
       "    <tr>\n",
       "      <th>1470</th>\n",
       "      <td>Asia</td>\n",
       "      <td>India</td>\n",
       "      <td>NaN</td>\n",
       "      <td>Delhi</td>\n",
       "      <td>1</td>\n",
       "      <td>10</td>\n",
       "      <td>1999</td>\n",
       "      <td>-99.0</td>\n",
       "    </tr>\n",
       "    <tr>\n",
       "      <th>1579</th>\n",
       "      <td>Asia</td>\n",
       "      <td>India</td>\n",
       "      <td>NaN</td>\n",
       "      <td>Delhi</td>\n",
       "      <td>4</td>\n",
       "      <td>29</td>\n",
       "      <td>1999</td>\n",
       "      <td>-99.0</td>\n",
       "    </tr>\n",
       "    <tr>\n",
       "      <th>1580</th>\n",
       "      <td>Asia</td>\n",
       "      <td>India</td>\n",
       "      <td>NaN</td>\n",
       "      <td>Delhi</td>\n",
       "      <td>4</td>\n",
       "      <td>30</td>\n",
       "      <td>1999</td>\n",
       "      <td>-99.0</td>\n",
       "    </tr>\n",
       "    <tr>\n",
       "      <th>2309</th>\n",
       "      <td>Asia</td>\n",
       "      <td>India</td>\n",
       "      <td>NaN</td>\n",
       "      <td>Delhi</td>\n",
       "      <td>4</td>\n",
       "      <td>28</td>\n",
       "      <td>2001</td>\n",
       "      <td>-99.0</td>\n",
       "    </tr>\n",
       "    <tr>\n",
       "      <th>2725</th>\n",
       "      <td>Asia</td>\n",
       "      <td>India</td>\n",
       "      <td>NaN</td>\n",
       "      <td>Delhi</td>\n",
       "      <td>6</td>\n",
       "      <td>18</td>\n",
       "      <td>2002</td>\n",
       "      <td>-99.0</td>\n",
       "    </tr>\n",
       "    <tr>\n",
       "      <th>2726</th>\n",
       "      <td>Asia</td>\n",
       "      <td>India</td>\n",
       "      <td>NaN</td>\n",
       "      <td>Delhi</td>\n",
       "      <td>6</td>\n",
       "      <td>19</td>\n",
       "      <td>2002</td>\n",
       "      <td>-99.0</td>\n",
       "    </tr>\n",
       "    <tr>\n",
       "      <th>2727</th>\n",
       "      <td>Asia</td>\n",
       "      <td>India</td>\n",
       "      <td>NaN</td>\n",
       "      <td>Delhi</td>\n",
       "      <td>6</td>\n",
       "      <td>20</td>\n",
       "      <td>2002</td>\n",
       "      <td>-99.0</td>\n",
       "    </tr>\n",
       "    <tr>\n",
       "      <th>2728</th>\n",
       "      <td>Asia</td>\n",
       "      <td>India</td>\n",
       "      <td>NaN</td>\n",
       "      <td>Delhi</td>\n",
       "      <td>6</td>\n",
       "      <td>21</td>\n",
       "      <td>2002</td>\n",
       "      <td>-99.0</td>\n",
       "    </tr>\n",
       "    <tr>\n",
       "      <th>2855</th>\n",
       "      <td>Asia</td>\n",
       "      <td>India</td>\n",
       "      <td>NaN</td>\n",
       "      <td>Delhi</td>\n",
       "      <td>10</td>\n",
       "      <td>26</td>\n",
       "      <td>2002</td>\n",
       "      <td>-99.0</td>\n",
       "    </tr>\n",
       "    <tr>\n",
       "      <th>4447</th>\n",
       "      <td>Asia</td>\n",
       "      <td>India</td>\n",
       "      <td>NaN</td>\n",
       "      <td>Delhi</td>\n",
       "      <td>3</td>\n",
       "      <td>6</td>\n",
       "      <td>2007</td>\n",
       "      <td>-99.0</td>\n",
       "    </tr>\n",
       "    <tr>\n",
       "      <th>4448</th>\n",
       "      <td>Asia</td>\n",
       "      <td>India</td>\n",
       "      <td>NaN</td>\n",
       "      <td>Delhi</td>\n",
       "      <td>3</td>\n",
       "      <td>7</td>\n",
       "      <td>2007</td>\n",
       "      <td>-99.0</td>\n",
       "    </tr>\n",
       "    <tr>\n",
       "      <th>4522</th>\n",
       "      <td>Asia</td>\n",
       "      <td>India</td>\n",
       "      <td>NaN</td>\n",
       "      <td>Delhi</td>\n",
       "      <td>5</td>\n",
       "      <td>20</td>\n",
       "      <td>2007</td>\n",
       "      <td>-99.0</td>\n",
       "    </tr>\n",
       "    <tr>\n",
       "      <th>4622</th>\n",
       "      <td>Asia</td>\n",
       "      <td>India</td>\n",
       "      <td>NaN</td>\n",
       "      <td>Delhi</td>\n",
       "      <td>8</td>\n",
       "      <td>28</td>\n",
       "      <td>2007</td>\n",
       "      <td>-99.0</td>\n",
       "    </tr>\n",
       "    <tr>\n",
       "      <th>4677</th>\n",
       "      <td>Asia</td>\n",
       "      <td>India</td>\n",
       "      <td>NaN</td>\n",
       "      <td>Delhi</td>\n",
       "      <td>10</td>\n",
       "      <td>22</td>\n",
       "      <td>2007</td>\n",
       "      <td>-99.0</td>\n",
       "    </tr>\n",
       "    <tr>\n",
       "      <th>4723</th>\n",
       "      <td>Asia</td>\n",
       "      <td>India</td>\n",
       "      <td>NaN</td>\n",
       "      <td>Delhi</td>\n",
       "      <td>12</td>\n",
       "      <td>7</td>\n",
       "      <td>2007</td>\n",
       "      <td>-99.0</td>\n",
       "    </tr>\n",
       "    <tr>\n",
       "      <th>5015</th>\n",
       "      <td>Asia</td>\n",
       "      <td>India</td>\n",
       "      <td>NaN</td>\n",
       "      <td>Delhi</td>\n",
       "      <td>9</td>\n",
       "      <td>24</td>\n",
       "      <td>2008</td>\n",
       "      <td>-99.0</td>\n",
       "    </tr>\n",
       "    <tr>\n",
       "      <th>5174</th>\n",
       "      <td>Asia</td>\n",
       "      <td>India</td>\n",
       "      <td>NaN</td>\n",
       "      <td>Delhi</td>\n",
       "      <td>3</td>\n",
       "      <td>2</td>\n",
       "      <td>2009</td>\n",
       "      <td>-99.0</td>\n",
       "    </tr>\n",
       "    <tr>\n",
       "      <th>5212</th>\n",
       "      <td>Asia</td>\n",
       "      <td>India</td>\n",
       "      <td>NaN</td>\n",
       "      <td>Delhi</td>\n",
       "      <td>4</td>\n",
       "      <td>9</td>\n",
       "      <td>2009</td>\n",
       "      <td>-99.0</td>\n",
       "    </tr>\n",
       "    <tr>\n",
       "      <th>5585</th>\n",
       "      <td>Asia</td>\n",
       "      <td>India</td>\n",
       "      <td>NaN</td>\n",
       "      <td>Delhi</td>\n",
       "      <td>4</td>\n",
       "      <td>17</td>\n",
       "      <td>2010</td>\n",
       "      <td>-99.0</td>\n",
       "    </tr>\n",
       "    <tr>\n",
       "      <th>5586</th>\n",
       "      <td>Asia</td>\n",
       "      <td>India</td>\n",
       "      <td>NaN</td>\n",
       "      <td>Delhi</td>\n",
       "      <td>4</td>\n",
       "      <td>18</td>\n",
       "      <td>2010</td>\n",
       "      <td>-99.0</td>\n",
       "    </tr>\n",
       "    <tr>\n",
       "      <th>5587</th>\n",
       "      <td>Asia</td>\n",
       "      <td>India</td>\n",
       "      <td>NaN</td>\n",
       "      <td>Delhi</td>\n",
       "      <td>4</td>\n",
       "      <td>19</td>\n",
       "      <td>2010</td>\n",
       "      <td>-99.0</td>\n",
       "    </tr>\n",
       "    <tr>\n",
       "      <th>5589</th>\n",
       "      <td>Asia</td>\n",
       "      <td>India</td>\n",
       "      <td>NaN</td>\n",
       "      <td>Delhi</td>\n",
       "      <td>4</td>\n",
       "      <td>21</td>\n",
       "      <td>2010</td>\n",
       "      <td>-99.0</td>\n",
       "    </tr>\n",
       "    <tr>\n",
       "      <th>6003</th>\n",
       "      <td>Asia</td>\n",
       "      <td>India</td>\n",
       "      <td>NaN</td>\n",
       "      <td>Delhi</td>\n",
       "      <td>6</td>\n",
       "      <td>9</td>\n",
       "      <td>2011</td>\n",
       "      <td>-99.0</td>\n",
       "    </tr>\n",
       "    <tr>\n",
       "      <th>6004</th>\n",
       "      <td>Asia</td>\n",
       "      <td>India</td>\n",
       "      <td>NaN</td>\n",
       "      <td>Delhi</td>\n",
       "      <td>6</td>\n",
       "      <td>10</td>\n",
       "      <td>2011</td>\n",
       "      <td>-99.0</td>\n",
       "    </tr>\n",
       "    <tr>\n",
       "      <th>6005</th>\n",
       "      <td>Asia</td>\n",
       "      <td>India</td>\n",
       "      <td>NaN</td>\n",
       "      <td>Delhi</td>\n",
       "      <td>6</td>\n",
       "      <td>11</td>\n",
       "      <td>2011</td>\n",
       "      <td>-99.0</td>\n",
       "    </tr>\n",
       "    <tr>\n",
       "      <th>6006</th>\n",
       "      <td>Asia</td>\n",
       "      <td>India</td>\n",
       "      <td>NaN</td>\n",
       "      <td>Delhi</td>\n",
       "      <td>6</td>\n",
       "      <td>12</td>\n",
       "      <td>2011</td>\n",
       "      <td>-99.0</td>\n",
       "    </tr>\n",
       "    <tr>\n",
       "      <th>6007</th>\n",
       "      <td>Asia</td>\n",
       "      <td>India</td>\n",
       "      <td>NaN</td>\n",
       "      <td>Delhi</td>\n",
       "      <td>6</td>\n",
       "      <td>13</td>\n",
       "      <td>2011</td>\n",
       "      <td>-99.0</td>\n",
       "    </tr>\n",
       "    <tr>\n",
       "      <th>6709</th>\n",
       "      <td>Asia</td>\n",
       "      <td>India</td>\n",
       "      <td>NaN</td>\n",
       "      <td>Delhi</td>\n",
       "      <td>5</td>\n",
       "      <td>15</td>\n",
       "      <td>2013</td>\n",
       "      <td>-99.0</td>\n",
       "    </tr>\n",
       "    <tr>\n",
       "      <th>6976</th>\n",
       "      <td>Asia</td>\n",
       "      <td>India</td>\n",
       "      <td>NaN</td>\n",
       "      <td>Delhi</td>\n",
       "      <td>2</td>\n",
       "      <td>6</td>\n",
       "      <td>2014</td>\n",
       "      <td>-99.0</td>\n",
       "    </tr>\n",
       "    <tr>\n",
       "      <th>7669</th>\n",
       "      <td>Asia</td>\n",
       "      <td>India</td>\n",
       "      <td>NaN</td>\n",
       "      <td>Delhi</td>\n",
       "      <td>12</td>\n",
       "      <td>30</td>\n",
       "      <td>2015</td>\n",
       "      <td>-99.0</td>\n",
       "    </tr>\n",
       "    <tr>\n",
       "      <th>7670</th>\n",
       "      <td>Asia</td>\n",
       "      <td>India</td>\n",
       "      <td>NaN</td>\n",
       "      <td>Delhi</td>\n",
       "      <td>12</td>\n",
       "      <td>31</td>\n",
       "      <td>2015</td>\n",
       "      <td>-99.0</td>\n",
       "    </tr>\n",
       "    <tr>\n",
       "      <th>7740</th>\n",
       "      <td>Asia</td>\n",
       "      <td>India</td>\n",
       "      <td>NaN</td>\n",
       "      <td>Delhi</td>\n",
       "      <td>3</td>\n",
       "      <td>10</td>\n",
       "      <td>2016</td>\n",
       "      <td>-99.0</td>\n",
       "    </tr>\n",
       "    <tr>\n",
       "      <th>7777</th>\n",
       "      <td>Asia</td>\n",
       "      <td>India</td>\n",
       "      <td>NaN</td>\n",
       "      <td>Delhi</td>\n",
       "      <td>4</td>\n",
       "      <td>16</td>\n",
       "      <td>2016</td>\n",
       "      <td>-99.0</td>\n",
       "    </tr>\n",
       "    <tr>\n",
       "      <th>7796</th>\n",
       "      <td>Asia</td>\n",
       "      <td>India</td>\n",
       "      <td>NaN</td>\n",
       "      <td>Delhi</td>\n",
       "      <td>5</td>\n",
       "      <td>5</td>\n",
       "      <td>2016</td>\n",
       "      <td>-99.0</td>\n",
       "    </tr>\n",
       "    <tr>\n",
       "      <th>7935</th>\n",
       "      <td>Asia</td>\n",
       "      <td>India</td>\n",
       "      <td>NaN</td>\n",
       "      <td>Delhi</td>\n",
       "      <td>9</td>\n",
       "      <td>21</td>\n",
       "      <td>2016</td>\n",
       "      <td>-99.0</td>\n",
       "    </tr>\n",
       "    <tr>\n",
       "      <th>7986</th>\n",
       "      <td>Asia</td>\n",
       "      <td>India</td>\n",
       "      <td>NaN</td>\n",
       "      <td>Delhi</td>\n",
       "      <td>11</td>\n",
       "      <td>11</td>\n",
       "      <td>2016</td>\n",
       "      <td>-99.0</td>\n",
       "    </tr>\n",
       "    <tr>\n",
       "      <th>8145</th>\n",
       "      <td>Asia</td>\n",
       "      <td>India</td>\n",
       "      <td>NaN</td>\n",
       "      <td>Delhi</td>\n",
       "      <td>4</td>\n",
       "      <td>19</td>\n",
       "      <td>2017</td>\n",
       "      <td>-99.0</td>\n",
       "    </tr>\n",
       "    <tr>\n",
       "      <th>8146</th>\n",
       "      <td>Asia</td>\n",
       "      <td>India</td>\n",
       "      <td>NaN</td>\n",
       "      <td>Delhi</td>\n",
       "      <td>4</td>\n",
       "      <td>20</td>\n",
       "      <td>2017</td>\n",
       "      <td>-99.0</td>\n",
       "    </tr>\n",
       "    <tr>\n",
       "      <th>8405</th>\n",
       "      <td>Asia</td>\n",
       "      <td>India</td>\n",
       "      <td>NaN</td>\n",
       "      <td>Delhi</td>\n",
       "      <td>1</td>\n",
       "      <td>4</td>\n",
       "      <td>2018</td>\n",
       "      <td>-99.0</td>\n",
       "    </tr>\n",
       "    <tr>\n",
       "      <th>8661</th>\n",
       "      <td>Asia</td>\n",
       "      <td>India</td>\n",
       "      <td>NaN</td>\n",
       "      <td>Delhi</td>\n",
       "      <td>9</td>\n",
       "      <td>17</td>\n",
       "      <td>2018</td>\n",
       "      <td>-99.0</td>\n",
       "    </tr>\n",
       "    <tr>\n",
       "      <th>8668</th>\n",
       "      <td>Asia</td>\n",
       "      <td>India</td>\n",
       "      <td>NaN</td>\n",
       "      <td>Delhi</td>\n",
       "      <td>9</td>\n",
       "      <td>24</td>\n",
       "      <td>2018</td>\n",
       "      <td>-99.0</td>\n",
       "    </tr>\n",
       "    <tr>\n",
       "      <th>8719</th>\n",
       "      <td>Asia</td>\n",
       "      <td>India</td>\n",
       "      <td>NaN</td>\n",
       "      <td>Delhi</td>\n",
       "      <td>11</td>\n",
       "      <td>14</td>\n",
       "      <td>2018</td>\n",
       "      <td>-99.0</td>\n",
       "    </tr>\n",
       "    <tr>\n",
       "      <th>8720</th>\n",
       "      <td>Asia</td>\n",
       "      <td>India</td>\n",
       "      <td>NaN</td>\n",
       "      <td>Delhi</td>\n",
       "      <td>11</td>\n",
       "      <td>15</td>\n",
       "      <td>2018</td>\n",
       "      <td>-99.0</td>\n",
       "    </tr>\n",
       "    <tr>\n",
       "      <th>8722</th>\n",
       "      <td>Asia</td>\n",
       "      <td>India</td>\n",
       "      <td>NaN</td>\n",
       "      <td>Delhi</td>\n",
       "      <td>11</td>\n",
       "      <td>17</td>\n",
       "      <td>2018</td>\n",
       "      <td>-99.0</td>\n",
       "    </tr>\n",
       "    <tr>\n",
       "      <th>8789</th>\n",
       "      <td>Asia</td>\n",
       "      <td>India</td>\n",
       "      <td>NaN</td>\n",
       "      <td>Delhi</td>\n",
       "      <td>1</td>\n",
       "      <td>23</td>\n",
       "      <td>2019</td>\n",
       "      <td>-99.0</td>\n",
       "    </tr>\n",
       "    <tr>\n",
       "      <th>8880</th>\n",
       "      <td>Asia</td>\n",
       "      <td>India</td>\n",
       "      <td>NaN</td>\n",
       "      <td>Delhi</td>\n",
       "      <td>4</td>\n",
       "      <td>24</td>\n",
       "      <td>2019</td>\n",
       "      <td>-99.0</td>\n",
       "    </tr>\n",
       "    <tr>\n",
       "      <th>8881</th>\n",
       "      <td>Asia</td>\n",
       "      <td>India</td>\n",
       "      <td>NaN</td>\n",
       "      <td>Delhi</td>\n",
       "      <td>4</td>\n",
       "      <td>25</td>\n",
       "      <td>2019</td>\n",
       "      <td>-99.0</td>\n",
       "    </tr>\n",
       "    <tr>\n",
       "      <th>8883</th>\n",
       "      <td>Asia</td>\n",
       "      <td>India</td>\n",
       "      <td>NaN</td>\n",
       "      <td>Delhi</td>\n",
       "      <td>4</td>\n",
       "      <td>27</td>\n",
       "      <td>2019</td>\n",
       "      <td>-99.0</td>\n",
       "    </tr>\n",
       "    <tr>\n",
       "      <th>8886</th>\n",
       "      <td>Asia</td>\n",
       "      <td>India</td>\n",
       "      <td>NaN</td>\n",
       "      <td>Delhi</td>\n",
       "      <td>4</td>\n",
       "      <td>30</td>\n",
       "      <td>2019</td>\n",
       "      <td>-99.0</td>\n",
       "    </tr>\n",
       "    <tr>\n",
       "      <th>8902</th>\n",
       "      <td>Asia</td>\n",
       "      <td>India</td>\n",
       "      <td>NaN</td>\n",
       "      <td>Delhi</td>\n",
       "      <td>5</td>\n",
       "      <td>16</td>\n",
       "      <td>2019</td>\n",
       "      <td>-99.0</td>\n",
       "    </tr>\n",
       "    <tr>\n",
       "      <th>8903</th>\n",
       "      <td>Asia</td>\n",
       "      <td>India</td>\n",
       "      <td>NaN</td>\n",
       "      <td>Delhi</td>\n",
       "      <td>5</td>\n",
       "      <td>17</td>\n",
       "      <td>2019</td>\n",
       "      <td>-99.0</td>\n",
       "    </tr>\n",
       "    <tr>\n",
       "      <th>8904</th>\n",
       "      <td>Asia</td>\n",
       "      <td>India</td>\n",
       "      <td>NaN</td>\n",
       "      <td>Delhi</td>\n",
       "      <td>5</td>\n",
       "      <td>18</td>\n",
       "      <td>2019</td>\n",
       "      <td>-99.0</td>\n",
       "    </tr>\n",
       "    <tr>\n",
       "      <th>8905</th>\n",
       "      <td>Asia</td>\n",
       "      <td>India</td>\n",
       "      <td>NaN</td>\n",
       "      <td>Delhi</td>\n",
       "      <td>5</td>\n",
       "      <td>19</td>\n",
       "      <td>2019</td>\n",
       "      <td>-99.0</td>\n",
       "    </tr>\n",
       "  </tbody>\n",
       "</table>\n",
       "</div>"
      ],
      "text/plain": [
       "     Region Country State   City  Month  Day  Year  AvgTemperature\n",
       "87     Asia   India   NaN  Delhi      3   29  1995           -99.0\n",
       "1323   Asia   India   NaN  Delhi      8   16  1998           -99.0\n",
       "1369   Asia   India   NaN  Delhi     10    1  1998           -99.0\n",
       "1453   Asia   India   NaN  Delhi     12   24  1998           -99.0\n",
       "1454   Asia   India   NaN  Delhi     12   25  1998           -99.0\n",
       "1459   Asia   India   NaN  Delhi     12   30  1998           -99.0\n",
       "1460   Asia   India   NaN  Delhi     12   31  1998           -99.0\n",
       "1470   Asia   India   NaN  Delhi      1   10  1999           -99.0\n",
       "1579   Asia   India   NaN  Delhi      4   29  1999           -99.0\n",
       "1580   Asia   India   NaN  Delhi      4   30  1999           -99.0\n",
       "2309   Asia   India   NaN  Delhi      4   28  2001           -99.0\n",
       "2725   Asia   India   NaN  Delhi      6   18  2002           -99.0\n",
       "2726   Asia   India   NaN  Delhi      6   19  2002           -99.0\n",
       "2727   Asia   India   NaN  Delhi      6   20  2002           -99.0\n",
       "2728   Asia   India   NaN  Delhi      6   21  2002           -99.0\n",
       "2855   Asia   India   NaN  Delhi     10   26  2002           -99.0\n",
       "4447   Asia   India   NaN  Delhi      3    6  2007           -99.0\n",
       "4448   Asia   India   NaN  Delhi      3    7  2007           -99.0\n",
       "4522   Asia   India   NaN  Delhi      5   20  2007           -99.0\n",
       "4622   Asia   India   NaN  Delhi      8   28  2007           -99.0\n",
       "4677   Asia   India   NaN  Delhi     10   22  2007           -99.0\n",
       "4723   Asia   India   NaN  Delhi     12    7  2007           -99.0\n",
       "5015   Asia   India   NaN  Delhi      9   24  2008           -99.0\n",
       "5174   Asia   India   NaN  Delhi      3    2  2009           -99.0\n",
       "5212   Asia   India   NaN  Delhi      4    9  2009           -99.0\n",
       "5585   Asia   India   NaN  Delhi      4   17  2010           -99.0\n",
       "5586   Asia   India   NaN  Delhi      4   18  2010           -99.0\n",
       "5587   Asia   India   NaN  Delhi      4   19  2010           -99.0\n",
       "5589   Asia   India   NaN  Delhi      4   21  2010           -99.0\n",
       "6003   Asia   India   NaN  Delhi      6    9  2011           -99.0\n",
       "6004   Asia   India   NaN  Delhi      6   10  2011           -99.0\n",
       "6005   Asia   India   NaN  Delhi      6   11  2011           -99.0\n",
       "6006   Asia   India   NaN  Delhi      6   12  2011           -99.0\n",
       "6007   Asia   India   NaN  Delhi      6   13  2011           -99.0\n",
       "6709   Asia   India   NaN  Delhi      5   15  2013           -99.0\n",
       "6976   Asia   India   NaN  Delhi      2    6  2014           -99.0\n",
       "7669   Asia   India   NaN  Delhi     12   30  2015           -99.0\n",
       "7670   Asia   India   NaN  Delhi     12   31  2015           -99.0\n",
       "7740   Asia   India   NaN  Delhi      3   10  2016           -99.0\n",
       "7777   Asia   India   NaN  Delhi      4   16  2016           -99.0\n",
       "7796   Asia   India   NaN  Delhi      5    5  2016           -99.0\n",
       "7935   Asia   India   NaN  Delhi      9   21  2016           -99.0\n",
       "7986   Asia   India   NaN  Delhi     11   11  2016           -99.0\n",
       "8145   Asia   India   NaN  Delhi      4   19  2017           -99.0\n",
       "8146   Asia   India   NaN  Delhi      4   20  2017           -99.0\n",
       "8405   Asia   India   NaN  Delhi      1    4  2018           -99.0\n",
       "8661   Asia   India   NaN  Delhi      9   17  2018           -99.0\n",
       "8668   Asia   India   NaN  Delhi      9   24  2018           -99.0\n",
       "8719   Asia   India   NaN  Delhi     11   14  2018           -99.0\n",
       "8720   Asia   India   NaN  Delhi     11   15  2018           -99.0\n",
       "8722   Asia   India   NaN  Delhi     11   17  2018           -99.0\n",
       "8789   Asia   India   NaN  Delhi      1   23  2019           -99.0\n",
       "8880   Asia   India   NaN  Delhi      4   24  2019           -99.0\n",
       "8881   Asia   India   NaN  Delhi      4   25  2019           -99.0\n",
       "8883   Asia   India   NaN  Delhi      4   27  2019           -99.0\n",
       "8886   Asia   India   NaN  Delhi      4   30  2019           -99.0\n",
       "8902   Asia   India   NaN  Delhi      5   16  2019           -99.0\n",
       "8903   Asia   India   NaN  Delhi      5   17  2019           -99.0\n",
       "8904   Asia   India   NaN  Delhi      5   18  2019           -99.0\n",
       "8905   Asia   India   NaN  Delhi      5   19  2019           -99.0"
      ]
     },
     "execution_count": 16,
     "metadata": {},
     "output_type": "execute_result"
    }
   ],
   "source": [
    "# Identifying outliers\n",
    "Q1 = delhi['AvgTemperature'].quantile(0.25)\n",
    "Q3 = delhi['AvgTemperature'].quantile(0.75)\n",
    "IQR = Q3 - Q1\n",
    "lower_bound = Q1 - 1.5 * IQR\n",
    "upper_bound = Q3 + 1.5 * IQR\n",
    "\n",
    "outliers = delhi[(delhi['AvgTemperature'] < lower_bound) | (delhi['AvgTemperature'] > upper_bound)]\n",
    "\n",
    "# Displaying outliers\n",
    "outliers"
   ]
  },
  {
   "cell_type": "code",
   "execution_count": 17,
   "id": "d8d735bc",
   "metadata": {},
   "outputs": [],
   "source": [
    "# -99 looks like a wrong entry\n",
    "# replace -99 with nan\n",
    "delhi['AvgTemperature'].replace(-99,np.nan,inplace =True)"
   ]
  },
  {
   "cell_type": "code",
   "execution_count": 18,
   "id": "44de0690",
   "metadata": {},
   "outputs": [],
   "source": [
    "# Check skewness again\n",
    "# we will use skewness to find wether we need to replace nan with mean or median"
   ]
  },
  {
   "cell_type": "code",
   "execution_count": 19,
   "id": "c5ea73c6",
   "metadata": {},
   "outputs": [
    {
     "data": {
      "image/png": "[encoded data removed]",
      "text/plain": [
       "<Figure size 600x400 with 1 Axes>"
      ]
     },
     "metadata": {},
     "output_type": "display_data"
    }
   ],
   "source": [
    "# Density Plot after replacing outlier with nan\n",
    "# Plotting the density diagram (Kernel Density Estimate plot)\n",
    "plt.figure(figsize=(6,4))\n",
    "sns.kdeplot(delhi['AvgTemperature'], fill=True)\n",
    "plt.title('Density Plot of Average Temperature in Delhi')\n",
    "plt.xlabel('Average Temperature')\n",
    "plt.ylabel('Density')\n",
    "plt.show()"
   ]
  },
  {
   "cell_type": "code",
   "execution_count": 20,
   "id": "4182ee2b",
   "metadata": {},
   "outputs": [
    {
     "name": "stdout",
     "output_type": "stream",
     "text": [
      "Skewness:  -0.3701248347502511\n",
      "Description:  approximately symmetric\n"
     ]
    }
   ],
   "source": [
    "skewness = delhi['AvgTemperature'].skew()\n",
    "\n",
    "# Checking if the data is skewed\n",
    "if skewness > 1 or skewness < -1:\n",
    "    skew_description = \"highly skewed\"\n",
    "elif 0.5 <= skewness <= 1 or -1 <= skewness <= -0.5:\n",
    "    skew_description = \"moderately skewed\"\n",
    "else:\n",
    "    skew_description = \"approximately symmetric\"\n",
    "\n",
    "print(\"Skewness: \", skewness)\n",
    "print(\"Description: \", skew_description)\n"
   ]
  },
  {
   "cell_type": "code",
   "execution_count": 21,
   "id": "8068fd1c",
   "metadata": {},
   "outputs": [],
   "source": [
    "# Approximately symmetric so we replace nan with mean"
   ]
  },
  {
   "cell_type": "code",
   "execution_count": 22,
   "id": "98951ccc",
   "metadata": {},
   "outputs": [
    {
     "data": {
      "text/plain": [
       "60"
      ]
     },
     "execution_count": 22,
     "metadata": {},
     "output_type": "execute_result"
    }
   ],
   "source": [
    "# nan in present data\n",
    "delhi['AvgTemperature'].isnull().sum()"
   ]
  },
  {
   "cell_type": "code",
   "execution_count": 23,
   "id": "ba1be89b",
   "metadata": {},
   "outputs": [
    {
     "data": {
      "text/plain": [
       "76.93822922324856"
      ]
     },
     "execution_count": 23,
     "metadata": {},
     "output_type": "execute_result"
    }
   ],
   "source": [
    "#mean of present data\n",
    "delhi['AvgTemperature'].mean()"
   ]
  },
  {
   "cell_type": "code",
   "execution_count": null,
   "id": "ab92a250",
   "metadata": {},
   "outputs": [],
   "source": []
  },
  {
   "cell_type": "code",
   "execution_count": 24,
   "id": "4e992935",
   "metadata": {},
   "outputs": [],
   "source": [
    "# Replace nan with mean \n",
    "from sklearn.impute import SimpleImputer\n",
    "imputer = SimpleImputer(strategy='mean')\n",
    "\n",
    "# Reshape the data since we are imputing for a single column\n",
    "delhi['AvgTemperature'] = imputer.fit_transform(delhi['AvgTemperature'].values.reshape(-1, 1))\n"
   ]
  },
  {
   "cell_type": "code",
   "execution_count": 25,
   "id": "cdec1da9",
   "metadata": {},
   "outputs": [
    {
     "data": {
      "text/plain": [
       "0"
      ]
     },
     "execution_count": 25,
     "metadata": {},
     "output_type": "execute_result"
    }
   ],
   "source": [
    "delhi['AvgTemperature'].isnull().sum()"
   ]
  },
  {
   "cell_type": "code",
   "execution_count": 26,
   "id": "5cd63e1d",
   "metadata": {},
   "outputs": [
    {
     "data": {
      "text/plain": [
       "76.93822922324851"
      ]
     },
     "execution_count": 26,
     "metadata": {},
     "output_type": "execute_result"
    }
   ],
   "source": [
    "delhi['AvgTemperature'].mean()"
   ]
  },
  {
   "cell_type": "code",
   "execution_count": 27,
   "id": "dd7b260f",
   "metadata": {},
   "outputs": [
    {
     "data": {
      "text/plain": [
       "Text(0, 0.5, 'AvgTemperature')"
      ]
     },
     "execution_count": 27,
     "metadata": {},
     "output_type": "execute_result"
    },
    {
     "data": {
      "image/png": "[encoded data removed]",
      "text/plain": [
       "<Figure size 1000x400 with 1 Axes>"
      ]
     },
     "metadata": {},
     "output_type": "display_data"
    }
   ],
   "source": [
    "plt.figure(figsize=(10,4))\n",
    "plt.plot(delhi['AvgTemperature'])\n",
    "plt.ylabel(\"AvgTemperature\",fontsize = 20)"
   ]
  },
  {
   "cell_type": "code",
   "execution_count": 28,
   "id": "44486112",
   "metadata": {},
   "outputs": [],
   "source": [
    "# Testing for stationary\n",
    "from statsmodels.tsa.stattools import adfuller"
   ]
  },
  {
   "cell_type": "code",
   "execution_count": 29,
   "id": "a5d695d1",
   "metadata": {},
   "outputs": [],
   "source": [
    "test_result = adfuller"
   ]
  },
  {
   "cell_type": "code",
   "execution_count": 30,
   "id": "0301338f",
   "metadata": {},
   "outputs": [],
   "source": [
    "# H0 = It is non stationary\n",
    "# H0 = It is stationary\n",
    "\n",
    "def adfuller_test(Export):\n",
    "    result = adfuller(Export)\n",
    "    labels = ['ADF Test Statistics', 'p value', '#Lags Used', 'Number of Observations Used']\n",
    "    for value,label in zip(result,labels):\n",
    "        print(label+':'+str(value))\n",
    "    if result[1]<=0.05:\n",
    "        print('Reject H0: It is stationary')\n",
    "    else:\n",
    "        print('Accept H0: It is non stationary')"
   ]
  },
  {
   "cell_type": "code",
   "execution_count": 31,
   "id": "5a063e52",
   "metadata": {},
   "outputs": [
    {
     "name": "stdout",
     "output_type": "stream",
     "text": [
      "ADF Test Statistics:-8.786101777647525\n",
      "p value:2.3064322634278694e-14\n",
      "#Lags Used:38\n",
      "Number of Observations Used:9226\n",
      "Reject H0: It is stationary\n"
     ]
    }
   ],
   "source": [
    "adfuller_test(delhi['AvgTemperature'])"
   ]
  },
  {
   "cell_type": "code",
   "execution_count": 35,
   "id": "707d1ab3",
   "metadata": {},
   "outputs": [],
   "source": [
    "# PLOT PACF"
   ]
  },
  {
   "cell_type": "code",
   "execution_count": 32,
   "id": "11bda6c7",
   "metadata": {},
   "outputs": [],
   "source": [
    "from statsmodels.graphics.tsaplots import plot_pacf"
   ]
  },
  {
   "cell_type": "code",
   "execution_count": 40,
   "id": "d5577da0",
   "metadata": {},
   "outputs": [
    {
     "name": "stderr",
     "output_type": "stream",
     "text": [
      "C:\\Users\\sidiq\\miniconda3\\lib\\site-packages\\statsmodels\\graphics\\tsaplots.py:353: FutureWarning: The default method 'yw' can produce PACF values outside of the [-1,1] interval. After 0.13, the default will change tounadjusted Yule-Walker ('ywm'). You can use this method now by setting method='ywm'.\n",
      "  FutureWarning,\n"
     ]
    },
    {
     "data": {
      "image/png": "[encoded data removed]",
      "text/plain": [
       "<Figure size 640x480 with 1 Axes>"
      ]
     },
     "execution_count": 40,
     "metadata": {},
     "output_type": "execute_result"
    },
    {
     "data": {
      "image/png": "[encoded data removed]",
      "text/plain": [
       "<Figure size 640x480 with 1 Axes>"
      ]
     },
     "metadata": {},
     "output_type": "display_data"
    }
   ],
   "source": [
    "plot_pacf(delhi['AvgTemperature'])"
   ]
  },
  {
   "cell_type": "code",
   "execution_count": 34,
   "id": "9822e574",
   "metadata": {},
   "outputs": [],
   "source": [
    "# Use auto arima to find model"
   ]
  },
  {
   "cell_type": "code",
   "execution_count": 35,
   "id": "50bc495e",
   "metadata": {},
   "outputs": [],
   "source": [
    "from pmdarima import auto_arima"
   ]
  },
  {
   "cell_type": "code",
   "execution_count": 36,
   "id": "176bc09c",
   "metadata": {},
   "outputs": [
    {
     "name": "stdout",
     "output_type": "stream",
     "text": [
      "                               SARIMAX Results                                \n",
      "==============================================================================\n",
      "Dep. Variable:                      y   No. Observations:                 9265\n",
      "Model:               SARIMAX(3, 0, 1)   Log Likelihood              -23049.531\n",
      "Date:                Mon, 29 Jan 2024   AIC                          46111.063\n",
      "Time:                        18:09:35   BIC                          46153.867\n",
      "Sample:                             0   HQIC                         46125.607\n",
      "                               - 9265                                         \n",
      "Covariance Type:                  opg                                         \n",
      "==============================================================================\n",
      "                 coef    std err          z      P>|z|      [0.025      0.975]\n",
      "------------------------------------------------------------------------------\n",
      "intercept      0.2048      0.047      4.398      0.000       0.114       0.296\n",
      "ar.L1          1.5916      0.018     88.457      0.000       1.556       1.627\n",
      "ar.L2         -0.6680      0.016    -41.155      0.000      -0.700      -0.636\n",
      "ar.L3          0.0737      0.008      8.824      0.000       0.057       0.090\n",
      "ma.L1         -0.7750      0.017    -45.362      0.000      -0.808      -0.741\n",
      "sigma2         8.4773      0.079    106.919      0.000       8.322       8.633\n",
      "===================================================================================\n",
      "Ljung-Box (L1) (Q):                   0.01   Jarque-Bera (JB):             11991.39\n",
      "Prob(Q):                              0.93   Prob(JB):                         0.00\n",
      "Heteroskedasticity (H):               1.04   Skew:                            -0.27\n",
      "Prob(H) (two-sided):                  0.30   Kurtosis:                         8.55\n",
      "===================================================================================\n",
      "\n",
      "Warnings:\n",
      "[1] Covariance matrix calculated using the outer product of gradients (complex-step).\n"
     ]
    }
   ],
   "source": [
    "# Define independent features\n",
    "\n",
    "model = auto_arima(delhi['AvgTemperature'],  seasonal=False)  \n",
    "\n",
    "# Summary of the model\n",
    "print(model.summary())"
   ]
  },
  {
   "cell_type": "code",
   "execution_count": 37,
   "id": "2f079894",
   "metadata": {},
   "outputs": [
    {
     "data": {
      "text/plain": [
       "ARIMA(order=(3, 0, 1), scoring_args={}, suppress_warnings=True)"
      ]
     },
     "execution_count": 37,
     "metadata": {},
     "output_type": "execute_result"
    }
   ],
   "source": [
    "model"
   ]
  },
  {
   "cell_type": "code",
   "execution_count": 36,
   "id": "f8665627",
   "metadata": {},
   "outputs": [],
   "source": [
    "# Fit SARIMA(3,0,1)"
   ]
  },
  {
   "cell_type": "code",
   "execution_count": 37,
   "id": "73710c82",
   "metadata": {},
   "outputs": [],
   "source": [
    "from statsmodels.tsa.statespace.sarimax import SARIMAX"
   ]
  },
  {
   "cell_type": "code",
   "execution_count": 39,
   "id": "e7fdd207",
   "metadata": {},
   "outputs": [],
   "source": [
    "model = SARIMAX(delhi['AvgTemperature'], order=(3, 0, 1))"
   ]
  },
  {
   "cell_type": "code",
   "execution_count": 40,
   "id": "02dd2907",
   "metadata": {},
   "outputs": [],
   "source": [
    "results = model.fit()"
   ]
  },
  {
   "cell_type": "code",
   "execution_count": 41,
   "id": "59bcf874",
   "metadata": {},
   "outputs": [
    {
     "data": {
      "text/html": [
       "<table class=\"simpletable\">\n",
       "<caption>SARIMAX Results</caption>\n",
       "<tr>\n",
       "  <th>Dep. Variable:</th>    <td>AvgTemperature</td>  <th>  No. Observations:  </th>    <td>9265</td>   \n",
       "</tr>\n",
       "<tr>\n",
       "  <th>Model:</th>           <td>SARIMAX(3, 0, 1)</td> <th>  Log Likelihood     </th> <td>-23063.292</td>\n",
       "</tr>\n",
       "<tr>\n",
       "  <th>Date:</th>            <td>Wed, 31 Jan 2024</td> <th>  AIC                </th>  <td>46136.584</td>\n",
       "</tr>\n",
       "<tr>\n",
       "  <th>Time:</th>                <td>11:38:16</td>     <th>  BIC                </th>  <td>46172.254</td>\n",
       "</tr>\n",
       "<tr>\n",
       "  <th>Sample:</th>                  <td>0</td>        <th>  HQIC               </th>  <td>46148.704</td>\n",
       "</tr>\n",
       "<tr>\n",
       "  <th></th>                      <td> - 9265</td>     <th>                     </th>      <td> </td>    \n",
       "</tr>\n",
       "<tr>\n",
       "  <th>Covariance Type:</th>        <td>opg</td>       <th>                     </th>      <td> </td>    \n",
       "</tr>\n",
       "</table>\n",
       "<table class=\"simpletable\">\n",
       "<tr>\n",
       "     <td></td>       <th>coef</th>     <th>std err</th>      <th>z</th>      <th>P>|z|</th>  <th>[0.025</th>    <th>0.975]</th>  \n",
       "</tr>\n",
       "<tr>\n",
       "  <th>ar.L1</th>  <td>    1.6026</td> <td>    0.016</td> <td>   97.694</td> <td> 0.000</td> <td>    1.570</td> <td>    1.635</td>\n",
       "</tr>\n",
       "<tr>\n",
       "  <th>ar.L2</th>  <td>   -0.6763</td> <td>    0.015</td> <td>  -44.525</td> <td> 0.000</td> <td>   -0.706</td> <td>   -0.646</td>\n",
       "</tr>\n",
       "<tr>\n",
       "  <th>ar.L3</th>  <td>    0.0736</td> <td>    0.008</td> <td>    8.785</td> <td> 0.000</td> <td>    0.057</td> <td>    0.090</td>\n",
       "</tr>\n",
       "<tr>\n",
       "  <th>ma.L1</th>  <td>   -0.7834</td> <td>    0.016</td> <td>  -49.353</td> <td> 0.000</td> <td>   -0.815</td> <td>   -0.752</td>\n",
       "</tr>\n",
       "<tr>\n",
       "  <th>sigma2</th> <td>    8.4993</td> <td>    0.074</td> <td>  114.906</td> <td> 0.000</td> <td>    8.354</td> <td>    8.644</td>\n",
       "</tr>\n",
       "</table>\n",
       "<table class=\"simpletable\">\n",
       "<tr>\n",
       "  <th>Ljung-Box (L1) (Q):</th>     <td>0.00</td> <th>  Jarque-Bera (JB):  </th> <td>12434.97</td>\n",
       "</tr>\n",
       "<tr>\n",
       "  <th>Prob(Q):</th>                <td>0.95</td> <th>  Prob(JB):          </th>   <td>0.00</td>  \n",
       "</tr>\n",
       "<tr>\n",
       "  <th>Heteroskedasticity (H):</th> <td>1.04</td> <th>  Skew:              </th>   <td>-0.29</td> \n",
       "</tr>\n",
       "<tr>\n",
       "  <th>Prob(H) (two-sided):</th>    <td>0.29</td> <th>  Kurtosis:          </th>   <td>8.65</td>  \n",
       "</tr>\n",
       "</table><br/><br/>Warnings:<br/>[1] Covariance matrix calculated using the outer product of gradients (complex-step)."
      ],
      "text/plain": [
       "<class 'statsmodels.iolib.summary.Summary'>\n",
       "\"\"\"\n",
       "                               SARIMAX Results                                \n",
       "==============================================================================\n",
       "Dep. Variable:         AvgTemperature   No. Observations:                 9265\n",
       "Model:               SARIMAX(3, 0, 1)   Log Likelihood              -23063.292\n",
       "Date:                Wed, 31 Jan 2024   AIC                          46136.584\n",
       "Time:                        11:38:16   BIC                          46172.254\n",
       "Sample:                             0   HQIC                         46148.704\n",
       "                               - 9265                                         \n",
       "Covariance Type:                  opg                                         \n",
       "==============================================================================\n",
       "                 coef    std err          z      P>|z|      [0.025      0.975]\n",
       "------------------------------------------------------------------------------\n",
       "ar.L1          1.6026      0.016     97.694      0.000       1.570       1.635\n",
       "ar.L2         -0.6763      0.015    -44.525      0.000      -0.706      -0.646\n",
       "ar.L3          0.0736      0.008      8.785      0.000       0.057       0.090\n",
       "ma.L1         -0.7834      0.016    -49.353      0.000      -0.815      -0.752\n",
       "sigma2         8.4993      0.074    114.906      0.000       8.354       8.644\n",
       "===================================================================================\n",
       "Ljung-Box (L1) (Q):                   0.00   Jarque-Bera (JB):             12434.97\n",
       "Prob(Q):                              0.95   Prob(JB):                         0.00\n",
       "Heteroskedasticity (H):               1.04   Skew:                            -0.29\n",
       "Prob(H) (two-sided):                  0.29   Kurtosis:                         8.65\n",
       "===================================================================================\n",
       "\n",
       "Warnings:\n",
       "[1] Covariance matrix calculated using the outer product of gradients (complex-step).\n",
       "\"\"\""
      ]
     },
     "execution_count": 41,
     "metadata": {},
     "output_type": "execute_result"
    }
   ],
   "source": [
    "results.summary()"
   ]
  },
  {
   "cell_type": "code",
   "execution_count": 42,
   "id": "afac11c4",
   "metadata": {},
   "outputs": [
    {
     "name": "stdout",
     "output_type": "stream",
     "text": [
      "Predicted AvgTemperature for next year: 9265    87.782684\n",
      "dtype: float64\n",
      "Confidence intervals for the forecast:       lower AvgTemperature  upper AvgTemperature\n",
      "9265             82.068682             93.496685\n"
     ]
    }
   ],
   "source": [
    "# Forecast the next year's average temperature\n",
    "forecast = results.get_forecast(steps=1)\n",
    "\n",
    "# Get the forecast mean\n",
    "predicted_avg_temp = forecast.predicted_mean\n",
    "\n",
    "# Optionally, get the confidence intervals of the forecasts\n",
    "conf_int = forecast.conf_int()\n",
    "\n",
    "print(\"Predicted AvgTemperature for next year:\", predicted_avg_temp)\n",
    "print(\"Confidence intervals for the forecast:\", conf_int)\n"
   ]
  },
  {
   "cell_type": "code",
   "execution_count": 44,
   "id": "b1914d32",
   "metadata": {},
   "outputs": [
    {
     "name": "stdout",
     "output_type": "stream",
     "text": [
      "Predicted AvgTemperature for next year: 9265    87.782684\n",
      "9266    87.334818\n",
      "9267    87.081718\n",
      "9268    86.955627\n",
      "9269    86.891770\n",
      "          ...    \n",
      "9625    82.096207\n",
      "9626    82.083219\n",
      "9627    82.070233\n",
      "9628    82.057249\n",
      "9629    82.044268\n",
      "Name: predicted_mean, Length: 365, dtype: float64\n",
      "Confidence intervals for the forecast:       lower AvgTemperature  upper AvgTemperature\n",
      "9265             82.068682             93.496685\n",
      "9266             79.948137             94.721500\n",
      "9267             78.847747             95.315690\n",
      "9268             78.162700             95.748554\n",
      "9269             77.655198             96.128341\n",
      "...                    ...                   ...\n",
      "9625             33.024701            131.167713\n",
      "9626             32.948981            131.217458\n",
      "9627             32.873362            131.267104\n",
      "9628             32.797845            131.316654\n",
      "9629             32.722429            131.366106\n",
      "\n",
      "[365 rows x 2 columns]\n"
     ]
    }
   ],
   "source": [
    "# Forecast the next year's average temperature\n",
    "forecast = results.get_forecast(steps=365)\n",
    "\n",
    "# Get the forecast mean\n",
    "predicted_avg_temp = forecast.predicted_mean\n",
    "\n",
    "# Optionally, get the confidence intervals of the forecasts\n",
    "conf_int = forecast.conf_int()\n",
    "\n",
    "print(\"Predicted AvgTemperature for next year:\", predicted_avg_temp)\n",
    "print(\"Confidence intervals for the forecast:\", conf_int)"
   ]
  }
 ],
 "metadata": {
  "kernelspec": {
   "display_name": "Python 3 (ipykernel)",
   "language": "python",
   "name": "python3"
  },
  "language_info": {
   "codemirror_mode": {
    "name": "ipython",
    "version": 3
   },
   "file_extension": ".py",
   "mimetype": "text/x-python",
   "name": "python",
   "nbconvert_exporter": "python",
   "pygments_lexer": "ipython3",
   "version": "3.7.15"
  }
 },
 "nbformat": 4,
 "nbformat_minor": 5
}
