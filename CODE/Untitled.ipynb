{
 "cells": [
  {
   "cell_type": "code",
   "execution_count": 2,
   "id": "4c22378f",
   "metadata": {},
   "outputs": [],
   "source": [
    "import numpy as np\n",
    "import pandas as pd\n",
    "import matplotlib.pyplot as plt"
   ]
  },
  {
   "cell_type": "code",
   "execution_count": 3,
   "id": "709d5066",
   "metadata": {},
   "outputs": [],
   "source": [
    "file_path = r\"C:\\Users\\sidiq\\Emiritus\\city_temperature.csv\""
   ]
  },
  {
   "cell_type": "code",
   "execution_count": 4,
   "id": "803002a2",
   "metadata": {},
   "outputs": [
    {
     "name": "stderr",
     "output_type": "stream",
     "text": [
      "C:\\Users\\sidiq\\miniconda3\\lib\\site-packages\\IPython\\core\\interactiveshell.py:3457: DtypeWarning: Columns (2) have mixed types.Specify dtype option on import or set low_memory=False.\n",
      "  exec(code_obj, self.user_global_ns, self.user_ns)\n"
     ]
    },
    {
     "name": "stdout",
     "output_type": "stream",
     "text": [
      "   Region  Country State     City  Month  Day  Year  AvgTemperature\n",
      "0  Africa  Algeria   NaN  Algiers      1    1  1995            64.2\n",
      "1  Africa  Algeria   NaN  Algiers      1    2  1995            49.4\n",
      "2  Africa  Algeria   NaN  Algiers      1    3  1995            48.8\n",
      "--------------------------------------------------\n",
      " shape of df_1=  (2906327, 8)\n"
     ]
    }
   ],
   "source": [
    "df_1= pd.read_csv(file_path)\n",
    "print(df_1.head(3))\n",
    "print('--------------------------------------------------')\n",
    "print(' shape of df_1= ', df_1.shape)"
   ]
  },
  {
   "cell_type": "code",
   "execution_count": null,
   "id": "7c416eb3",
   "metadata": {},
   "outputs": [],
   "source": []
  }
 ],
 "metadata": {
  "kernelspec": {
   "display_name": "Python 3 (ipykernel)",
   "language": "python",
   "name": "python3"
  },
  "language_info": {
   "codemirror_mode": {
    "name": "ipython",
    "version": 3
   },
   "file_extension": ".py",
   "mimetype": "text/x-python",
   "name": "python",
   "nbconvert_exporter": "python",
   "pygments_lexer": "ipython3",
   "version": "3.7.15"
  }
 },
 "nbformat": 4,
 "nbformat_minor": 5
}
